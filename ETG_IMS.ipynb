{
  "nbformat": 4,
  "nbformat_minor": 0,
  "metadata": {
    "colab": {
      "name": "ETG IMS.ipynb",
      "provenance": [],
      "collapsed_sections": []
    },
    "kernelspec": {
      "name": "python3",
      "display_name": "Python 3"
    },
    "language_info": {
      "name": "python"
    }
  },
  "cells": [
    {
      "cell_type": "markdown",
      "metadata": {
        "id": "zE1tFwJjuvQj"
      },
      "source": [
        "## **Dataset**"
      ]
    },
    {
      "cell_type": "markdown",
      "metadata": {
        "id": "1RxpR0WbzAk5"
      },
      "source": [
        "Dataset"
      ]
    },
    {
      "cell_type": "code",
      "metadata": {
        "id": "JnQ-hSjH6y_c"
      },
      "source": [
        "import json\n",
        "import codecs\n",
        "\n",
        "data=json.load(codecs.open('dt.json', 'r', 'utf-8-sig'))"
      ],
      "execution_count": 1,
      "outputs": []
    },
    {
      "cell_type": "markdown",
      "metadata": {
        "id": "5uCy0dZkGkFZ"
      },
      "source": [
        "# **Add new items to inventory**"
      ]
    },
    {
      "cell_type": "code",
      "metadata": {
        "colab": {
          "base_uri": "https://localhost:8080/"
        },
        "id": "3oZ1KwGyBOYC",
        "outputId": "38cd2b85-9213-4978-ae36-a66ca5b77be2"
      },
      "source": [
        "id = int(input(\"Enter product id:\"))\n",
        "if id<=30:\n",
        "  id=int(input('enter id greater thann 30'))\n",
        "else:\n",
        "  pass\n",
        "gender = str(input(\"Enter your gender:\"))\n",
        "if gender !='male' and gender !='female':\n",
        "  gender=str(input('enter male or female'))\n",
        "else:\n",
        "  pass\n",
        "price = int(input(\"Enter price:\"))\n",
        "quantity = int(input(\"Enter quantity:\"))\n",
        "product_type = str(input(\"Enter product type:\"))\n",
        "rating = int(input(\"Give rating to product:\"))\n",
        "if rating > 10:\n",
        "  rating=int(input('enter rating between 1 to 10'))\n",
        "else:\n",
        "  pass\n",
        "data[id] = {'gender': gender, 'price': price, 'quantity': quantity,'product':product_type,'rating':rating}\n",
        "\n",
        "js = json.dumps(data)\n",
        "\n",
        "fd = open(\"dt.json\",'w')\n",
        "fd.write(js)\n",
        "fd.close()"
      ],
      "execution_count": 4,
      "outputs": [
        {
          "name": "stdout",
          "output_type": "stream",
          "text": [
            "Enter product id:3\n",
            "enter id greater thann 3031\n",
            "Enter your gender:male\n",
            "Enter price:45\n",
            "Enter quantity:4\n",
            "Enter product type:beauty\n",
            "Give rating to product:5\n"
          ]
        }
      ]
    },
    {
      "cell_type": "code",
      "metadata": {
        "colab": {
          "base_uri": "https://localhost:8080/"
        },
        "id": "-95nPq8DPwLN",
        "outputId": "a31524e6-5270-4ebd-e89f-396a8f6f4c24"
      },
      "source": [
        "data"
      ],
      "execution_count": 8,
      "outputs": [
        {
          "output_type": "execute_result",
          "data": {
            "text/plain": [
              "{'1': {'gender': 'female',\n",
              "  'price': 75,\n",
              "  'product': 'health',\n",
              "  'quantity': 7,\n",
              "  'rating': 9},\n",
              " '10': {'gender': 'male',\n",
              "  'price': 34,\n",
              "  'product': 'beuaty',\n",
              "  'quantity': 4,\n",
              "  'rating': 6},\n",
              " '11': {'gender': 'female',\n",
              "  'price': 22,\n",
              "  'product': 'health',\n",
              "  'quantity': 3,\n",
              "  'rating': 7},\n",
              " '12': {'gender': 'female',\n",
              "  'price': 33,\n",
              "  'product': 'health',\n",
              "  'quantity': 10,\n",
              "  'rating': 7},\n",
              " '13': {'gender': 'female',\n",
              "  'price': 38,\n",
              "  'product': 'electronic',\n",
              "  'quantity': 12,\n",
              "  'rating': 7},\n",
              " '14': {'gender': 'male',\n",
              "  'price': 46,\n",
              "  'product': 'beuaty',\n",
              "  'quantity': 11,\n",
              "  'rating': 8},\n",
              " '15': {'gender': 'female',\n",
              "  'price': 69,\n",
              "  'product': 'electronic',\n",
              "  'quantity': 6,\n",
              "  'rating': 8},\n",
              " '16': {'gender': 'female',\n",
              "  'price': 79,\n",
              "  'product': 'health',\n",
              "  'quantity': 9,\n",
              "  'rating': 9},\n",
              " '17': {'gender': 'female',\n",
              "  'price': 89,\n",
              "  'product': 'beuaty',\n",
              "  'quantity': 4,\n",
              "  'rating': 9},\n",
              " '18': {'gender': 'male',\n",
              "  'price': 22,\n",
              "  'product': 'health',\n",
              "  'quantity': 50,\n",
              "  'rating': 9},\n",
              " '19': {'gender': 'female',\n",
              "  'price': 29,\n",
              "  'product': 'food',\n",
              "  'quantity': 10,\n",
              "  'rating': 7},\n",
              " '2': {'gender': 'female',\n",
              "  'price': 99,\n",
              "  'product': 'electronic',\n",
              "  'quantity': 5,\n",
              "  'rating': 10},\n",
              " '20': {'gender': 'male',\n",
              "  'price': 19,\n",
              "  'product': 'beuaty',\n",
              "  'quantity': 2,\n",
              "  'rating': 5},\n",
              " '21': {'gender': 'female',\n",
              "  'price': 45,\n",
              "  'product': 'health',\n",
              "  'quantity': 7,\n",
              "  'rating': 9},\n",
              " '22': {'gender': 'male',\n",
              "  'price': 67,\n",
              "  'product': 'food',\n",
              "  'quantity': 15,\n",
              "  'rating': 7},\n",
              " '23': {'gender': 'female',\n",
              "  'price': 89,\n",
              "  'product': 'beuaty',\n",
              "  'quantity': 8,\n",
              "  'rating': 7},\n",
              " '24': {'gender': 'female',\n",
              "  'price': 79,\n",
              "  'product': 'beuaty',\n",
              "  'quantity': 1,\n",
              "  'rating': 7},\n",
              " '25': {'gender': 'female',\n",
              "  'price': 69,\n",
              "  'product': 'electronic',\n",
              "  'quantity': 3,\n",
              "  'rating': 8},\n",
              " '26': {'gender': 'male',\n",
              "  'price': 98,\n",
              "  'product': 'food',\n",
              "  'quantity': 4,\n",
              "  'rating': 8},\n",
              " '27': {'gender': 'male',\n",
              "  'price': 99,\n",
              "  'product': 'beuaty',\n",
              "  'quantity': 4,\n",
              "  'rating': 8},\n",
              " '28': {'gender': 'male',\n",
              "  'price': 96,\n",
              "  'product': 'electronic',\n",
              "  'quantity': 7,\n",
              "  'rating': 8},\n",
              " '29': {'gender': 'male',\n",
              "  'price': 94,\n",
              "  'product': 'health',\n",
              "  'quantity': 8,\n",
              "  'rating': 8},\n",
              " '3': {'gender': 'male',\n",
              "  'price': 55,\n",
              "  'product': 'beuaty',\n",
              "  'quantity': 4,\n",
              "  'rating': 7},\n",
              " '30': {'gender': 'female',\n",
              "  'price': 79,\n",
              "  'product': 'food',\n",
              "  'quantity': 6,\n",
              "  'rating': 10},\n",
              " 31: {'gender': 'male',\n",
              "  'price': 45,\n",
              "  'product': 'beauty',\n",
              "  'quantity': 4,\n",
              "  'rating': 5},\n",
              " '4': {'gender': 'male',\n",
              "  'price': 96,\n",
              "  'product': 'health',\n",
              "  'quantity': 3,\n",
              "  'rating': 8},\n",
              " '5': {'gender': 'female',\n",
              "  'price': 79,\n",
              "  'product': 'electronic',\n",
              "  'quantity': 7,\n",
              "  'rating': 10},\n",
              " '6': {'gender': 'female',\n",
              "  'price': 89,\n",
              "  'product': 'beuaty',\n",
              "  'quantity': 22,\n",
              "  'rating': 10},\n",
              " '7': {'gender': 'male',\n",
              "  'price': 98,\n",
              "  'product': 'food',\n",
              "  'quantity': 15,\n",
              "  'rating': 4},\n",
              " '8': {'gender': 'female',\n",
              "  'price': 44,\n",
              "  'product': 'electronic',\n",
              "  'quantity': 11,\n",
              "  'rating': 5},\n",
              " '9': {'gender': 'female',\n",
              "  'price': 56,\n",
              "  'product': 'food',\n",
              "  'quantity': 8,\n",
              "  'rating': 5}}"
            ]
          },
          "metadata": {},
          "execution_count": 8
        }
      ]
    },
    {
      "cell_type": "markdown",
      "metadata": {
        "id": "nak0g7BxGrqB"
      },
      "source": [
        "# Purchasing products from inventory"
      ]
    },
    {
      "cell_type": "code",
      "metadata": {
        "colab": {
          "base_uri": "https://localhost:8080/"
        },
        "id": "Nn2zpfViF8bQ",
        "outputId": "82349df2-f7f8-4673-c75d-f5307ee3a72e"
      },
      "source": [
        "buy_id  = str(input(\"Enter the product_Id: \"))\n",
        "buy_quant = int(input(\"Enter the quantity: \"))\n",
        "\n",
        "\n",
        "print(\"Product: \", data[buy_id]['product'])\n",
        "print(\"Price: \", data[buy_id]['price'])\n",
        "print(\"Billing Amount: \", data[buy_id]['price'] * buy_quant)\n",
        "\n",
        "data[buy_id]['quantity'] = data[buy_id]['quantity'] - buy_quant\n",
        "\n",
        "js = json.dumps(data)\n",
        "\n",
        "fd = open(\"dt.json\",'w')\n",
        "fd.write(js)\n",
        "fd.close()\n"
      ],
      "execution_count": 6,
      "outputs": [
        {
          "output_type": "stream",
          "name": "stdout",
          "text": [
            "Enter the product_Id: 4\n",
            "Enter the quantity: 3\n",
            "Product:  health\n",
            "Price:  96\n",
            "Billing Amount:  288\n"
          ]
        }
      ]
    },
    {
      "cell_type": "code",
      "metadata": {
        "id": "LfKV874OeBmA",
        "colab": {
          "base_uri": "https://localhost:8080/"
        },
        "outputId": "f5c3e1e2-6194-4a5e-eaf5-f7688654faf6"
      },
      "source": [
        "print(data[buy_id])"
      ],
      "execution_count": 9,
      "outputs": [
        {
          "output_type": "stream",
          "name": "stdout",
          "text": [
            "{'gender': 'male', 'price': 96, 'quantity': 3, 'product': 'health', 'rating': 8}\n"
          ]
        }
      ]
    },
    {
      "cell_type": "code",
      "metadata": {
        "id": "gYQSYGJAPgMN"
      },
      "source": [
        ""
      ],
      "execution_count": null,
      "outputs": []
    }
  ]
}