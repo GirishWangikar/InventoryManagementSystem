{
  "nbformat": 4,
  "nbformat_minor": 0,
  "metadata": {
    "colab": {
      "name": "sales.ipynb",
      "provenance": [],
      "collapsed_sections": []
    },
    "kernelspec": {
      "name": "python3",
      "display_name": "Python 3"
    },
    "language_info": {
      "name": "python"
    }
  },
  "cells": [
    {
      "cell_type": "code",
      "metadata": {
        "id": "nTHRbEOAgMhB"
      },
      "source": [
        "\n",
        "import json\n",
        "import codecs\n",
        "\n",
        "data=json.load(codecs.open('dt.json', 'r', 'utf-8-sig'))\n",
        "js = json.dumps(data)\n",
        "\n",
        "fd = open(\"dt.json\",'w')\n",
        "fd.write(js)\n",
        "fd.close()\n",
        "\n"
      ],
      "execution_count": 1,
      "outputs": []
    },
    {
      "cell_type": "code",
      "metadata": {
        "colab": {
          "base_uri": "https://localhost:8080/"
        },
        "id": "XzdQWi4vjOXx",
        "outputId": "05107628-deb4-4c95-e4b5-18f70721a12f"
      },
      "source": [
        "z={}\n",
        "sale=[]\n",
        "x=int(input('enter number of items to buy'))\n",
        "for i in range(x):\n",
        "   \n",
        "   \n",
        "   buy_id  = str(input(\"Enter the product_Id: \"))\n",
        "   buy_quant = int(input(\"Enter the quantity: \"))\n",
        "  \n",
        "  \n",
        "   print(\"Product: \", data[buy_id]['product'])\n",
        "   print(\"Price: \", data[buy_id]['price'])\n",
        "   print(\"Billing Amount: \", data[buy_id]['price'] * buy_quant)\n",
        "  \n",
        "   {'product' : buy_id, 'quantity' : buy_quant, 'amount': data[buy_id]['price'] * buy_quant}\n",
        "   sales = {i : {'id' : buy_id, 'quantity' : buy_quant, 'amount': data[buy_id]['price'] * buy_quant}}\n",
        "   \n",
        "   z = json.dumps(sales)\n",
        "   sale.append(z)\n",
        "   i+=1\n"
      ],
      "execution_count": 11,
      "outputs": [
        {
          "output_type": "stream",
          "name": "stdout",
          "text": [
            "enter number of items to buy2\n",
            "Enter the product_Id: 3\n",
            "Enter the quantity: 4\n",
            "Product:  beuaty\n",
            "Price:  55\n",
            "Billing Amount:  220\n",
            "Enter the product_Id: 5\n",
            "Enter the quantity: 4\n",
            "Product:  electronic\n",
            "Price:  79\n",
            "Billing Amount:  316\n"
          ]
        }
      ]
    },
    {
      "cell_type": "code",
      "metadata": {
        "id": "asNQFRY3r7UV",
        "colab": {
          "base_uri": "https://localhost:8080/"
        },
        "outputId": "7176b7bd-6270-4b4d-d50a-89919b4758b0"
      },
      "source": [
        "sale"
      ],
      "execution_count": 12,
      "outputs": [
        {
          "output_type": "execute_result",
          "data": {
            "text/plain": [
              "['{\"0\": {\"id\": \"3\", \"quantity\": 4, \"amount\": 220}}',\n",
              " '{\"1\": {\"id\": \"5\", \"quantity\": 4, \"amount\": 316}}']"
            ]
          },
          "metadata": {},
          "execution_count": 12
        }
      ]
    },
    {
      "cell_type": "code",
      "metadata": {
        "id": "ieQbt1l2KoWM"
      },
      "source": [
        ""
      ],
      "execution_count": null,
      "outputs": []
    }
  ]
}